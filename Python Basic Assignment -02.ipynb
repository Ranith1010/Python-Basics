{
 "cells": [
  {
   "cell_type": "code",
   "execution_count": 1,
   "metadata": {},
   "outputs": [],
   "source": [
    "#1.What are the two values of the Boolean data type? How do you write them?"
   ]
  },
  {
   "cell_type": "code",
   "execution_count": 2,
   "metadata": {},
   "outputs": [
    {
     "data": {
      "text/plain": [
       "bool"
      ]
     },
     "execution_count": 2,
     "metadata": {},
     "output_type": "execute_result"
    }
   ],
   "source": [
    "# The two values of bool are True and False  \n",
    "a=True\n",
    "type(a)\n",
    "b = False\n",
    "type(b)"
   ]
  },
  {
   "cell_type": "code",
   "execution_count": 3,
   "metadata": {},
   "outputs": [],
   "source": [
    "#2.What are the three different types of Boolean operators?"
   ]
  },
  {
   "cell_type": "code",
   "execution_count": 5,
   "metadata": {},
   "outputs": [],
   "source": [
    "#The three different types of boolean operators are\n",
    "#AND\n",
    "#OR\n",
    "#NOT"
   ]
  },
  {
   "cell_type": "code",
   "execution_count": 6,
   "metadata": {},
   "outputs": [],
   "source": [
    "#3.Make a list of each Boolean operator's truth tables (i.e. every possible combination of Boolean values for the operator and what it evaluate )."
   ]
  },
  {
   "cell_type": "code",
   "execution_count": 9,
   "metadata": {},
   "outputs": [],
   "source": [
    "#AND OPERATOR TRUTH TABLE :When both the inputs will be true then the output will be true\n",
    "#A  B      A.B\n",
    "#1  1      1\n",
    "#1  0      0\n",
    "#0  0      0\n",
    "#0  1      0\n",
    "\n",
    "#OR OPERATOR TRUTH TABLE : When any one of the inputs are true then the output will be true\n",
    "#A   B     A+B\n",
    "#0   0     0\n",
    "#0   1     1\n",
    "#1   0     1\n",
    "#1   1     1\n",
    "\n",
    "#NOT OPERATOR TRUTH TABLE : IF Input is true then output in false and vice versa\n",
    "\n",
    "#A     \n",
    "#1     0\n",
    "#0     1"
   ]
  },
  {
   "cell_type": "code",
   "execution_count": 10,
   "metadata": {},
   "outputs": [],
   "source": [
    "#4. What are the values of the following expressions?"
   ]
  },
  {
   "cell_type": "code",
   "execution_count": 16,
   "metadata": {},
   "outputs": [
    {
     "name": "stdout",
     "output_type": "stream",
     "text": [
      "a= False\n",
      "b= False\n",
      "c= True\n",
      "d= False\n",
      "e= False\n",
      "f= True\n"
     ]
    }
   ],
   "source": [
    "a =(5 > 4) and (3 == 5)\n",
    "b =not (5 > 4)\n",
    "c= (5 > 4) or (3 == 5)\n",
    "d =not ((5 > 4) or (3 == 5))\n",
    "e =(True and True) and (True == False)\n",
    "f =(not False) or (not True)\n",
    "print(\"a=\",a)\n",
    "print(\"b=\",b)\n",
    "print(\"c=\",c)\n",
    "print(\"d=\",d)\n",
    "print(\"e=\",e)\n",
    "print(\"f=\",f)"
   ]
  },
  {
   "cell_type": "code",
   "execution_count": 17,
   "metadata": {},
   "outputs": [],
   "source": [
    "#5. What are the six comparison operators?"
   ]
  },
  {
   "cell_type": "code",
   "execution_count": 19,
   "metadata": {},
   "outputs": [],
   "source": [
    "#THE SIX COMPARISON OPERATORS ARE\n",
    "#== EQUAL TOO\n",
    "#!= NO EQUAL TOO\n",
    "#>= GREATER THAN OR EQUAL TO\n",
    "#<= LESSER THAN OR EQUAL TO\n",
    "#>  GREATER THAN\n",
    "#<  LESSER THAN"
   ]
  },
  {
   "cell_type": "code",
   "execution_count": 20,
   "metadata": {},
   "outputs": [],
   "source": [
    "#6.How do you tell the difference between the equal to and assignment operators?Describe a condition and when you would use one."
   ]
  },
  {
   "cell_type": "code",
   "execution_count": 21,
   "metadata": {},
   "outputs": [],
   "source": [
    "#a=8 This is an example for assignment operator where variable in being stored in an value\n",
    "\n",
    "#b=8\n",
    "#c=8\n",
    "# if(b==c)\n",
    "#    print(\"the values are equal\") #this is an example for equal operator where if variable in left is equal to the variable in the right then it will get printed\n"
   ]
  },
  {
   "cell_type": "code",
   "execution_count": 22,
   "metadata": {},
   "outputs": [],
   "source": [
    "#7. Identify the three blocks in this code:"
   ]
  },
  {
   "cell_type": "code",
   "execution_count": 25,
   "metadata": {},
   "outputs": [
    {
     "name": "stdout",
     "output_type": "stream",
     "text": [
      "ham\n",
      "spam\n",
      "spam\n"
     ]
    }
   ],
   "source": [
    "spam = 0                   #value of spam\n",
    "if spam == 10:           #BLOCK 1 , if the condition is true then print 'eggs'\n",
    "    print('eggs')          #condition is not true so it does not get printed        \n",
    "if spam > 5:             #BLOCK 2 ,if the condition is true then print bacon  \n",
    "    print('bacon')         #condition is not true so it does not get printed\n",
    "else:                     #BLOCK 3 , since the above two conditions weren't true else statement will get executed here\n",
    "    print('ham')            #and the following will get printed 'ham','spam','spam'\n",
    "    print('spam')\n",
    "    print('spam')\n"
   ]
  },
  {
   "cell_type": "code",
   "execution_count": 26,
   "metadata": {},
   "outputs": [],
   "source": [
    "#8. Write code that prints Hello if 1 is stored in spam, prints Howdy if 2 is stored in spam, and prints Greetings! if anything else is stored in spam."
   ]
  },
  {
   "cell_type": "code",
   "execution_count": 33,
   "metadata": {},
   "outputs": [
    {
     "name": "stdout",
     "output_type": "stream",
     "text": [
      "enter the values between 1 to 5 4\n",
      "GREETINGS\n"
     ]
    }
   ],
   "source": [
    "spam = int(input(\"enter the values between 1 to 5 \"))\n",
    "if spam ==1:\n",
    "    print(\"HELLO\")\n",
    "elif spam ==2:\n",
    "    print(\"HOWDY\")\n",
    "else:\n",
    "    print(\"GREETINGS\")\n",
    "    \n",
    "    "
   ]
  },
  {
   "cell_type": "code",
   "execution_count": 34,
   "metadata": {},
   "outputs": [],
   "source": [
    "#9.If your programme is stuck in an endless loop, what keys you’ll press?\n"
   ]
  },
  {
   "cell_type": "code",
   "execution_count": 35,
   "metadata": {},
   "outputs": [],
   "source": [
    "#CTRL+c"
   ]
  },
  {
   "cell_type": "code",
   "execution_count": 36,
   "metadata": {},
   "outputs": [],
   "source": [
    "#10. How can you tell the difference between break and continue?"
   ]
  },
  {
   "cell_type": "code",
   "execution_count": 37,
   "metadata": {},
   "outputs": [],
   "source": [
    "#BREAK statement termiaates the loop as soon as the condition is satisfied \n",
    "#CONTINUE statement continues the loop executing all lines or commands even if the condition is satisfied"
   ]
  },
  {
   "cell_type": "code",
   "execution_count": 38,
   "metadata": {},
   "outputs": [],
   "source": [
    "#11. In a for loop, what is the difference between range(10), range(0, 10), and range(0, 10, 1)?"
   ]
  },
  {
   "cell_type": "code",
   "execution_count": 39,
   "metadata": {},
   "outputs": [],
   "source": [
    "#range(10) This has only stop point so the values which will get printed are 0 to 10 \n",
    "#range(0,10)This has both start as well as stop point mentioned in the statement as the series of number from 0 to 10\n",
    "#range(0,10,1) This has all the i,e. start,stop and step mentioned in the statement as the series of number from 0 to 10 with default step size as 1"
   ]
  },
  {
   "cell_type": "code",
   "execution_count": 49,
   "metadata": {},
   "outputs": [],
   "source": [
    "#12. Write a short program that prints the numbers 1 to 10 using a for loop. Then write an equivalent program that prints the numbers 1 to 10 using a while loop."
   ]
  },
  {
   "cell_type": "code",
   "execution_count": 51,
   "metadata": {},
   "outputs": [
    {
     "name": "stdout",
     "output_type": "stream",
     "text": [
      "1\n",
      "2\n",
      "3\n",
      "4\n",
      "5\n",
      "6\n",
      "7\n",
      "8\n",
      "9\n",
      "10\n"
     ]
    }
   ],
   "source": [
    "for i in range(1,11):\n",
    "    print(i)\n",
    "    \n",
    "    "
   ]
  },
  {
   "cell_type": "code",
   "execution_count": 2,
   "metadata": {},
   "outputs": [
    {
     "name": "stdout",
     "output_type": "stream",
     "text": [
      "1\n",
      "2\n",
      "3\n",
      "4\n",
      "5\n",
      "6\n",
      "7\n",
      "8\n",
      "9\n",
      "10\n"
     ]
    }
   ],
   "source": [
    "a=1\n",
    "while a in range (1,11):\n",
    "    print(a)\n",
    "    a=a+1"
   ]
  },
  {
   "cell_type": "code",
   "execution_count": 3,
   "metadata": {},
   "outputs": [],
   "source": [
    "#13. If you had a function named bacon() inside a module named spam, how would you call it after importing spam?\n"
   ]
  },
  {
   "cell_type": "code",
   "execution_count": null,
   "metadata": {},
   "outputs": [],
   "source": [
    "#import bacon\n",
    "# spam.bacon()"
   ]
  }
 ],
 "metadata": {
  "kernelspec": {
   "display_name": "Python 3",
   "language": "python",
   "name": "python3"
  },
  "language_info": {
   "codemirror_mode": {
    "name": "ipython",
    "version": 3
   },
   "file_extension": ".py",
   "mimetype": "text/x-python",
   "name": "python",
   "nbconvert_exporter": "python",
   "pygments_lexer": "ipython3",
   "version": "3.8.5"
  }
 },
 "nbformat": 4,
 "nbformat_minor": 4
}
